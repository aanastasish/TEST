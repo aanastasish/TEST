{
  "nbformat": 4,
  "nbformat_minor": 0,
  "metadata": {
    "colab": {
      "name": "SWOT.ipynb",
      "provenance": [],
      "collapsed_sections": [],
      "mount_file_id": "1go7kjF6NXJ9QVgJB7FX6XFfzLh175Q5U",
      "authorship_tag": "ABX9TyPol160ZK+T/unfDWutY5kZ",
      "include_colab_link": true
    },
    "kernelspec": {
      "name": "python3",
      "display_name": "Python 3"
    }
  },
  "cells": [
    {
      "cell_type": "markdown",
      "metadata": {
        "id": "view-in-github",
        "colab_type": "text"
      },
      "source": [
        "<a href=\"https://colab.research.google.com/github/aanastasish/TEST/blob/master/SWOT.ipynb\" target=\"_parent\"><img src=\"https://colab.research.google.com/assets/colab-badge.svg\" alt=\"Open In Colab\"/></a>"
      ]
    },
    {
      "cell_type": "markdown",
      "metadata": {
        "id": "V_k0DudRdgl2"
      },
      "source": [
        "Информация об исполнителе"
      ]
    },
    {
      "cell_type": "code",
      "metadata": {
        "colab": {
          "base_uri": "https://localhost:8080/",
          "height": 0
        },
        "id": "aUC75Prade-0",
        "outputId": "226a2d71-0e5f-46b8-a04e-a2f16924f993"
      },
      "source": [
        "print('Выполнила Шамрикова Анастасия Александровна')\r\n",
        "print('Группа 20 БИ-2')\r\n",
        "print('Временная зона GMT +3')\r\n",
        "!ln -fs /usr/share/zoneinfo/Europe/Moscow /etc/localtime\r\n",
        "!date"
      ],
      "execution_count": 78,
      "outputs": [
        {
          "output_type": "stream",
          "text": [
            "Выполнила Шамрикова Анастасия Александровна\n",
            "Группа 20 БИ-2\n",
            "Временная зона GMT +3\n",
            "Wed Mar  3 20:47:46 MSK 2021\n"
          ],
          "name": "stdout"
        }
      ]
    },
    {
      "cell_type": "markdown",
      "metadata": {
        "id": "SECG12evdoyM"
      },
      "source": [
        "Связь с Google Drive"
      ]
    },
    {
      "cell_type": "code",
      "metadata": {
        "colab": {
          "base_uri": "https://localhost:8080/",
          "height": 0
        },
        "id": "IhbmBDVw5Rr_",
        "outputId": "b0b02333-ed51-4b47-b443-48d658329446"
      },
      "source": [
        "from google.colab import auth\r\n",
        "auth.authenticate_user()\r\n",
        "!pip install --upgrade gspread\r\n",
        "import gspread\r\n",
        "from google.colab import drive\r\n",
        "drive.mount('/content/drive')\r\n",
        "import os\r\n",
        "print(os.getcwd())\r\n",
        "print(os.listdir('./'))\r\n",
        "print(os.listdir('/content/drive'))\r\n",
        "print(os.listdir('/content/drive/MyDrive/SWOT-analysis'))\r\n",
        "%ll -lF /content/drive/MyDrive/SWOT-analysis\r\n",
        "from oauth2client.client import GoogleCredentials\r\n",
        "gs = gspread.authorize(GoogleCredentials.get_application_default())\r\n",
        "table = gs.open_by_key('1W1sd23WrgBg_qcET1-buzb3b3a_JZpBDguQ43tDQsMw')\r\n",
        "print(table.worksheets())"
      ],
      "execution_count": 79,
      "outputs": [
        {
          "output_type": "stream",
          "text": [
            "Requirement already up-to-date: gspread in /usr/local/lib/python3.7/dist-packages (3.7.0)\n",
            "Requirement already satisfied, skipping upgrade: google-auth-oauthlib>=0.4.1 in /usr/local/lib/python3.7/dist-packages (from gspread) (0.4.2)\n",
            "Requirement already satisfied, skipping upgrade: google-auth>=1.12.0 in /usr/local/lib/python3.7/dist-packages (from gspread) (1.27.0)\n",
            "Requirement already satisfied, skipping upgrade: requests-oauthlib>=0.7.0 in /usr/local/lib/python3.7/dist-packages (from google-auth-oauthlib>=0.4.1->gspread) (1.3.0)\n",
            "Requirement already satisfied, skipping upgrade: pyasn1-modules>=0.2.1 in /usr/local/lib/python3.7/dist-packages (from google-auth>=1.12.0->gspread) (0.2.8)\n",
            "Requirement already satisfied, skipping upgrade: setuptools>=40.3.0 in /usr/local/lib/python3.7/dist-packages (from google-auth>=1.12.0->gspread) (54.0.0)\n",
            "Requirement already satisfied, skipping upgrade: cachetools<5.0,>=2.0.0 in /usr/local/lib/python3.7/dist-packages (from google-auth>=1.12.0->gspread) (4.2.1)\n",
            "Requirement already satisfied, skipping upgrade: six>=1.9.0 in /usr/local/lib/python3.7/dist-packages (from google-auth>=1.12.0->gspread) (1.15.0)\n",
            "Requirement already satisfied, skipping upgrade: rsa<5,>=3.1.4; python_version >= \"3.6\" in /usr/local/lib/python3.7/dist-packages (from google-auth>=1.12.0->gspread) (4.7.2)\n",
            "Requirement already satisfied, skipping upgrade: requests>=2.0.0 in /usr/local/lib/python3.7/dist-packages (from requests-oauthlib>=0.7.0->google-auth-oauthlib>=0.4.1->gspread) (2.23.0)\n",
            "Requirement already satisfied, skipping upgrade: oauthlib>=3.0.0 in /usr/local/lib/python3.7/dist-packages (from requests-oauthlib>=0.7.0->google-auth-oauthlib>=0.4.1->gspread) (3.1.0)\n",
            "Requirement already satisfied, skipping upgrade: pyasn1<0.5.0,>=0.4.6 in /usr/local/lib/python3.7/dist-packages (from pyasn1-modules>=0.2.1->google-auth>=1.12.0->gspread) (0.4.8)\n",
            "Requirement already satisfied, skipping upgrade: idna<3,>=2.5 in /usr/local/lib/python3.7/dist-packages (from requests>=2.0.0->requests-oauthlib>=0.7.0->google-auth-oauthlib>=0.4.1->gspread) (2.10)\n",
            "Requirement already satisfied, skipping upgrade: chardet<4,>=3.0.2 in /usr/local/lib/python3.7/dist-packages (from requests>=2.0.0->requests-oauthlib>=0.7.0->google-auth-oauthlib>=0.4.1->gspread) (3.0.4)\n",
            "Requirement already satisfied, skipping upgrade: certifi>=2017.4.17 in /usr/local/lib/python3.7/dist-packages (from requests>=2.0.0->requests-oauthlib>=0.7.0->google-auth-oauthlib>=0.4.1->gspread) (2020.12.5)\n",
            "Requirement already satisfied, skipping upgrade: urllib3!=1.25.0,!=1.25.1,<1.26,>=1.21.1 in /usr/local/lib/python3.7/dist-packages (from requests>=2.0.0->requests-oauthlib>=0.7.0->google-auth-oauthlib>=0.4.1->gspread) (1.24.3)\n",
            "Drive already mounted at /content/drive; to attempt to forcibly remount, call drive.mount(\"/content/drive\", force_remount=True).\n",
            "/content\n",
            "['.config', 'drive', 'adc.json', 'sample_data']\n",
            "['MyDrive', '.shortcut-targets-by-id', '.Trash']\n",
            "['Prices.gsheet', 'SWOT.gsheet', 'SWOT.ipynb']\n",
            "total 28\n",
            "-rw------- 1 root   151 Mar  2 23:33 Prices.gsheet\n",
            "-rw------- 1 root   151 Mar  3 20:43 SWOT.gsheet\n",
            "-rw------- 1 root 27240 Mar  3 20:47 SWOT.ipynb\n",
            "[<Worksheet 'SWOT' id:1291277922>, <Worksheet 'Strengths' id:2132343520>, <Worksheet 'Weaknesses' id:691495457>, <Worksheet 'Opportunities' id:1839731318>, <Worksheet 'Threats' id:65940110>]\n"
          ],
          "name": "stdout"
        }
      ]
    },
    {
      "cell_type": "markdown",
      "metadata": {
        "id": "O1-Qnk58d_X3"
      },
      "source": [
        "Отдельные элементы SWOT-анализа"
      ]
    },
    {
      "cell_type": "code",
      "metadata": {
        "colab": {
          "base_uri": "https://localhost:8080/",
          "height": 0
        },
        "id": "o05P_4S5eUC5",
        "outputId": "3f305fcf-c547-4f57-e2ae-67786e9d2d75"
      },
      "source": [
        "# Считываем данные таблицы и достраиваем ее\r\n",
        "print('Strengths')\r\n",
        "worksheet = table.worksheet(\"Strengths\")\r\n",
        "rows = worksheet.get_all_values()\r\n",
        "strength = list()\r\n",
        "actions = list()\r\n",
        "importance = list()\r\n",
        "probability = list()\r\n",
        "power = list()\r\n",
        "power_sh = list()\r\n",
        "power_raw = list()\r\n",
        "i = 0\r\n",
        "for row in rows:\r\n",
        "  if (0 < i < 6):\r\n",
        "    power.append(float(row[3])*int(row[2]))\r\n",
        "    power_raw = list()\r\n",
        "    power_raw.append(float(row[3])*int(row[2]))\r\n",
        "    power_sh.append(power_raw)\r\n",
        "    worksheet.update('E2:E6', power_sh)\r\n",
        "  i += 1\r\n",
        "k = 0\r\n",
        "for row in rows:\r\n",
        "  if (k == 0):   \r\n",
        "    print (k, row)\r\n",
        "  elif (0 < k < 6):\r\n",
        "    print (k, row)\r\n",
        "    strength.append(row[0])\r\n",
        "    actions.append(row[1])\r\n",
        "    importance.append(int(row[2]))\r\n",
        "    probability.append(float(row[3]))\r\n",
        "    power.append((row[4]))\r\n",
        "  k += 1\r\n",
        "print('Values: ', power_sh)\r\n",
        "  "
      ],
      "execution_count": 80,
      "outputs": [
        {
          "output_type": "stream",
          "text": [
            "Strengths\n",
            "0 ['Strengths', 'Actions (усиление достоинств)', 'Importance', 'Probability', 'Power (python)']\n",
            "1 ['Персональный подход к клиенту', 'Создание индивидуального товара для клиента (по его меркам, выбранному фасону и материалу)', '9', '1.0', '9']\n",
            "2 ['Высокое качество изделий', 'Ручная работа и качественные материалы', '10', '0.95', '9,5']\n",
            "3 ['Оправданная цена', 'Соотношение цены и качества', '10', '0.9', '9']\n",
            "4 ['Большой ассортимент', 'Выбор материалов и фасонов на любой вкус', '8', '1.0', '8']\n",
            "5 ['Дизайн ', 'Соответствие модным тенденциям', '8', '0.8', '6,4']\n",
            "Values:  [[9.0], [9.5], [9.0], [8.0], [6.4]]\n"
          ],
          "name": "stdout"
        }
      ]
    },
    {
      "cell_type": "code",
      "metadata": {
        "colab": {
          "base_uri": "https://localhost:8080/",
          "height": 0
        },
        "id": "kgmkoEepeXL3",
        "outputId": "e0700a06-36a5-49a4-afdf-9f22f8173e12"
      },
      "source": [
        "# Считываем данные таблицы и достраиваем ее\r\n",
        "print('Weaknesses')\r\n",
        "worksheet = table.worksheet(\"Weaknesses\")\r\n",
        "rows = worksheet.get_all_values()\r\n",
        "weaknesses = list()\r\n",
        "actions = list()\r\n",
        "importance = list()\r\n",
        "probability = list()\r\n",
        "power = list()\r\n",
        "power_sh = list()\r\n",
        "power_raw = list()\r\n",
        "i = 0\r\n",
        "for row in rows:\r\n",
        "  if (0 < i < 5):\r\n",
        "    power.append(float(row[3])*int(row[2]))\r\n",
        "    power_raw = list()\r\n",
        "    power_raw.append(float(row[3])*int(row[2]))\r\n",
        "    power_sh.append(power_raw)\r\n",
        "    worksheet.update('E2:E5', power_sh)\r\n",
        "  i += 1\r\n",
        "k = 0\r\n",
        "for row in rows:\r\n",
        "  if (k == 0):   \r\n",
        "    print (k, row)\r\n",
        "  elif (0 < k < 5):\r\n",
        "    print (k, row)\r\n",
        "    weaknesses.append(row[0])\r\n",
        "    actions.append(row[1])\r\n",
        "    importance.append(int(row[2]))\r\n",
        "    probability.append(float(row[3]))\r\n",
        "    power.append((row[4]))\r\n",
        "  k += 1\r\n",
        "print('Values: ', power_sh)"
      ],
      "execution_count": 81,
      "outputs": [
        {
          "output_type": "stream",
          "text": [
            "Weaknesses\n",
            "0 ['Weaknesses', 'Actions (ослабление недостатков)', 'Importance', 'Probability', 'Power (python)']\n",
            "1 ['Ограничения по количеству производимого товара', 'Расширение производства и наем новых работников с увеличением количества заказов', '6', '0.7', '4,2']\n",
            "2 ['Долгое время на привлечение клиентов в начале', 'Закупка рекламы;  введение системы лояльности для постоянных клиентов (скидки и подарки)', '6', '0.6', '3,6']\n",
            "3 ['Относительно долгий период до начала окупаемости бизнеса', 'Возможность дополнительного заработка в виде пошива изделий для оптовой продажи физическим магазинам', '8', '0.7', '5,6']\n",
            "4 ['Наличие только интернет-магазина ', 'Открытие физического магазина-ателье (где можно вживую подобрать фасон, материал, снять мерки и тд)', '3', '0.1', '0,3']\n",
            "Values:  [[4.199999999999999], [3.5999999999999996], [5.6], [0.30000000000000004]]\n"
          ],
          "name": "stdout"
        }
      ]
    },
    {
      "cell_type": "code",
      "metadata": {
        "colab": {
          "base_uri": "https://localhost:8080/",
          "height": 0
        },
        "id": "V0Pxy-V6eXDY",
        "outputId": "6976c5cb-43ba-4eda-d33c-5ae998900da5"
      },
      "source": [
        "# Считываем данные таблицы и достраиваем ее\r\n",
        "print('Opportunities')\r\n",
        "worksheet = table.worksheet(\"Opportunities\")\r\n",
        "rows = worksheet.get_all_values()\r\n",
        "opportunities = list()\r\n",
        "actions = list()\r\n",
        "importance = list()\r\n",
        "probability = list()\r\n",
        "power = list()\r\n",
        "power_sh = list()\r\n",
        "power_raw = list()\r\n",
        "i = 0\r\n",
        "for row in rows:\r\n",
        "  if (0 < i < 5):\r\n",
        "    power.append(float(row[3])*int(row[2]))\r\n",
        "    power_raw = list()\r\n",
        "    power_raw.append(float(row[3])*int(row[2]))\r\n",
        "    power_sh.append(power_raw)\r\n",
        "    worksheet.update('E2:E5', power_sh)\r\n",
        "  i += 1\r\n",
        "k = 0\r\n",
        "for row in rows:\r\n",
        "  if (k == 0):   \r\n",
        "    print (k, row)\r\n",
        "  elif (0 < k < 5):\r\n",
        "    print (k, row)\r\n",
        "    opportunities.append(row[0])\r\n",
        "    actions.append(row[1])\r\n",
        "    importance.append(int(row[2]))\r\n",
        "    probability.append(float(row[3]))\r\n",
        "    power.append((row[4]))\r\n",
        "  k += 1\r\n",
        "print('Values: ', power_sh)"
      ],
      "execution_count": 82,
      "outputs": [
        {
          "output_type": "stream",
          "text": [
            "Opportunities\n",
            "0 ['Opportunities', 'Actions (обращение в свою пользу)', 'Importance', 'Probability', 'Power (python)']\n",
            "1 ['Растущее недовольство товаром в сетевых магазинах (из-за несоответствия цены и качества)', 'Предложение товара с оправданной ценой и хорошим качеством', '8', '0.8', '6,4']\n",
            "2 ['Модные тенденции, превозносящие ручную работу, качественный материал и удобство в носке', 'Следование тенденциям и поддержка идей этичной моды (что помогает заручиться поддержкой и лояльностью клиентов)', '6', '0.7', '4,2']\n",
            "3 ['Оптовые заказы от физических магазинов', 'Возможность пошива по стандартным лекалам для оптовой продажи в другие магазины (увеличение прибыли)', '5', '0.15', '0,75']\n",
            "4 ['Большой выбор необходимых для запуска бизнеса средств (помещения под аренду, поставщики материалов и фурнитуры, техника и мебель)', 'Закупки материалов и др. по адекватным ценам; возможность выбора; разнообразие, которое будет привлекать клиентов', '8', '0.8', '6,4']\n",
            "Values:  [[6.4], [4.199999999999999], [0.75], [6.4]]\n"
          ],
          "name": "stdout"
        }
      ]
    },
    {
      "cell_type": "markdown",
      "metadata": {
        "id": "ZWu9WNIMtKMr"
      },
      "source": [
        ""
      ]
    },
    {
      "cell_type": "code",
      "metadata": {
        "colab": {
          "base_uri": "https://localhost:8080/",
          "height": 0
        },
        "id": "42gT_CHCeW3H",
        "outputId": "86ad0017-1fb1-4feb-ff97-6f144959d293"
      },
      "source": [
        "# Считываем данные таблицы и достраиваем ее\r\n",
        "print('Threats')\r\n",
        "worksheet = table.worksheet(\"Threats\")\r\n",
        "rows = worksheet.get_all_values()\r\n",
        "threats = list()\r\n",
        "actions = list()\r\n",
        "importance = list()\r\n",
        "probability = list()\r\n",
        "power = list()\r\n",
        "power_sh = list()\r\n",
        "power_raw = list()\r\n",
        "i = 0\r\n",
        "for row in rows:\r\n",
        "  if (0 < i < 6):\r\n",
        "    power.append(float(row[3])*int(row[2]))\r\n",
        "    power_raw = list()\r\n",
        "    power_raw.append(float(row[3])*int(row[2]))\r\n",
        "    power_sh.append(power_raw)\r\n",
        "    worksheet.update('E2:E6', power_sh)\r\n",
        "  i += 1\r\n",
        "k = 0\r\n",
        "for row in rows:\r\n",
        "  if (k == 0):   \r\n",
        "    print (k, row)\r\n",
        "  elif (0 < k < 6):\r\n",
        "    print (k, row)\r\n",
        "    threats.append(row[0])\r\n",
        "    actions.append(row[1])\r\n",
        "    importance.append(int(row[2]))\r\n",
        "    probability.append(float(row[3]))\r\n",
        "    power.append((row[4]))\r\n",
        "  k += 1\r\n",
        "print('Values: ', power_sh)"
      ],
      "execution_count": 83,
      "outputs": [
        {
          "output_type": "stream",
          "text": [
            "Threats\n",
            "0 ['Threats', 'Actions (минимизация влияния)', 'Importance', 'Probability', 'Power (python)']\n",
            "1 ['Большая конкуренция на рынке', 'Приобретение лояльной аудитории; расширение ассортимента товаров (например, купальники и домашняя одежда)', '8', '0.85', '6,8']\n",
            "2 ['Небольшое количество кадров, специализирующихся на данной области', 'Обучение \"под себя\" потенциальных работников; предложение зарплаты выше, чем у конкурентов', '5', '0.5', '2,5']\n",
            "3 ['Повышение цен на материалы и фурнитуру', 'Закупка бОльшими партиями; поиск постоянного продавца (со скидками для постоянных покупателей)', '5', '0.6', '3']\n",
            "4 ['Снижение платежеспособности клиентов', 'Введение системы скидок для постоянных клиентов', '9', '0.7', '6,3']\n",
            "5 ['Проблемы с сайтом', 'Добавить клиенту возможность связаться другим способом (через соц.сети, телефон); открытие физического магазина', '3', '0.05', '0,15']\n",
            "Values:  [[6.8], [2.5], [3.0], [6.3], [0.15000000000000002]]\n"
          ],
          "name": "stdout"
        }
      ]
    },
    {
      "cell_type": "markdown",
      "metadata": {
        "id": "JNoBmcYgeCp2"
      },
      "source": [
        "Итоговая таблица"
      ]
    },
    {
      "cell_type": "code",
      "metadata": {
        "colab": {
          "base_uri": "https://localhost:8080/",
          "height": 0
        },
        "id": "nYn9HC83eUpd",
        "outputId": "fc922340-fa4b-4305-b12a-34f9b8408708"
      },
      "source": [
        "# Считываем данные таблицы и достраиваем ее\r\n",
        "print('SWOT')\r\n",
        "worksheet = table.worksheet(\"SWOT\")\r\n",
        "rows = worksheet.get_all_values()\r\n",
        "strengths = list()\r\n",
        "weaknesses = list()\r\n",
        "opportunities = list()\r\n",
        "threats = list()\r\n",
        "actions = list()\r\n",
        "importance = list()\r\n",
        "probability = list()\r\n",
        "power = list()\r\n",
        "power_shs = list()\r\n",
        "power_shw = list()\r\n",
        "power_sho = list()\r\n",
        "power_sht = list()\r\n",
        "power_raws = list()\r\n",
        "power_raww = list()\r\n",
        "power_rawo = list()\r\n",
        "power_rawt = list()\r\n",
        "\r\n",
        "# strengths\r\n",
        "a = 0\r\n",
        "for row in rows:\r\n",
        "  if (0 < a < 6):\r\n",
        "    power.append(float(row[3])*int(row[2]))\r\n",
        "    power_raws = list()\r\n",
        "    power_raws.append(float(row[3])*int(row[2]))\r\n",
        "    power_shs.append(power_raws)\r\n",
        "    worksheet.update('E2:E6', power_shs)\r\n",
        "  a += 1\r\n",
        "# weaknesses\r\n",
        "b = 0\r\n",
        "for row in rows:\r\n",
        "  if (6 < b < 11):\r\n",
        "    power.append(float(row[3])*int(row[2]))\r\n",
        "    power_raww = list()\r\n",
        "    power_raww.append(float(row[3])*int(row[2]))\r\n",
        "    power_shw.append(power_raww)\r\n",
        "    worksheet.update('E8:E11', power_shw)\r\n",
        "  b += 1\r\n",
        "# opportunities\r\n",
        "c = 0\r\n",
        "for row in rows:\r\n",
        "  if (11 < c < 16):\r\n",
        "    power.append(float(row[3])*int(row[2]))\r\n",
        "    power_rawo = list()\r\n",
        "    power_rawo.append(float(row[3])*int(row[2]))\r\n",
        "    power_sho.append(power_rawo)\r\n",
        "    worksheet.update('E13:E16', power_sho)\r\n",
        "  c += 1\r\n",
        "d = 0\r\n",
        "for row in rows:\r\n",
        "  if (16 < d < 22):\r\n",
        "    power.append(float(row[3])*int(row[2]))\r\n",
        "    power_rawt = list()\r\n",
        "    power_rawt.append(float(row[3])*int(row[2]))\r\n",
        "    power_sht.append(power_rawt)\r\n",
        "    worksheet.update('E18:E22', power_sht)\r\n",
        "  d += 1\r\n",
        "\r\n",
        "k = 0\r\n",
        "for row in rows:\r\n",
        "  if (k == 0 or k == 6 or k == 11 or k == 16):   \r\n",
        "    print('')\r\n",
        "    print (k, row)\r\n",
        "  elif (k < 22):\r\n",
        "    print (k, row)\r\n",
        "    threats.append(row[0])\r\n",
        "    actions.append(row[1])\r\n",
        "    importance.append(int(row[2]))\r\n",
        "    probability.append(float(row[3]))\r\n",
        "    power.append((row[4]))\r\n",
        "  k += 1\r\n",
        "\r\n",
        "print('')\r\n",
        "print('Strength values: ', power_shs)\r\n",
        "print('Summury: ', worksheet.get('B24'))\r\n",
        "print('')\r\n",
        "print('Weaknesses values: ', power_shw)\r\n",
        "print('Summury: ', worksheet.get('B25'))\r\n",
        "print('')\r\n",
        "print('Opportunities values: ', power_sho)\r\n",
        "print('Summury: ', worksheet.get('B26'))\r\n",
        "print('')\r\n",
        "print('Threats values: ', power_sht)\r\n",
        "print('Summury: ', worksheet.get('B27'))\r\n",
        "print('')\r\n",
        "print('In total: ', worksheet.get('B28'))"
      ],
      "execution_count": 84,
      "outputs": [
        {
          "output_type": "stream",
          "text": [
            "SWOT\n",
            "\n",
            "0 ['Strengths', 'Actions (усиление достоинств)', 'Importance', 'Probability', 'Power (python)']\n",
            "1 ['Персональный подход к клиенту', 'Создание индивидуального товара для клиента (по его меркам, выбранному фасону и материалу)', '9', '1.0', '9']\n",
            "2 ['Высокое качество изделий', 'Ручная работа и качественные материалы', '10', '0.95', '9,5']\n",
            "3 ['Оправданная цена', 'Соотношение цены и качества', '10', '0.9', '9']\n",
            "4 ['Большой ассортимент', 'Выбор материалов и фасонов на любой вкус', '8', '1.0', '8']\n",
            "5 ['Дизайн ', 'Соответствие модным тенденциям', '8', '0.8', '6,4']\n",
            "\n",
            "6 ['Weaknesses', 'Actions (ослабление недостатков)', 'Importance', 'Probability', 'Power (python)']\n",
            "7 ['Ограничения по количеству производимого товара', 'Расширение производства и наем новых работников с увеличением количества заказов', '6', '0.7', '4,2']\n",
            "8 ['Долгое время на привлечение клиентов в начале', 'Закупка рекламы;  введение системы лояльности для постоянных клиентов (скидки и подарки)', '6', '0.6', '3,6']\n",
            "9 ['Относительно долгий период до начала окупаемости бизнеса', 'Возможность дополнительного заработка в виде пошива изделий для оптовой продажи физическим магазинам', '8', '0.7', '5,6']\n",
            "10 ['Наличие только интернет-магазина ', 'Открытие физического магазина-ателье (где можно вживую подобрать фасон, материал, снять мерки и тд)', '3', '0.1', '0,3']\n",
            "\n",
            "11 ['Opportunities', 'Actions (обращение в свою пользу)', 'Importance', 'Probability', 'Power (python)']\n",
            "12 ['Растущее недовольство товаром в сетевых магазинах (из-за несоответствия цены и качества)', 'Предложение товара с оправданной ценой и хорошим качеством', '8', '0.8', '6,4']\n",
            "13 ['Модные тенденции, превозносящие ручную работу, качественный материал и удобство в носке', 'Следование тенденциям и поддержка идей этичной моды (что помогает заручиться поддержкой и лояльностью клиентов)', '6', '0.7', '4,2']\n",
            "14 ['Оптовые заказы от физических магазинов', 'Возможность пошива по стандартным лекалам для оптовой продажи в другие магазины (увеличение прибыли)', '5', '0.15', '0,75']\n",
            "15 ['Большой выбор необходимых для запуска бизнеса средств (помещения под аренду, поставщики материалов и фурнитуры, техника и мебель)', 'Закупки материалов и др. по адекватным ценам; возможность выбора; разнообразие, которое будет привлекать клиентов', '8', '0.8', '6,4']\n",
            "\n",
            "16 ['Threats', 'Actions (минимизация влияния)', 'Importance', 'Probability', 'Power (python)']\n",
            "17 ['Большая конкуренция на рынке', 'Приобретение лояльной аудитории; расширение ассортимента товаров (например, купальники и домашняя одежда)', '8', '0.85', '6,8']\n",
            "18 ['Небольшое количество кадров, специализирующихся на данной области', 'Обучение \"под себя\" потенциальных работников; предложение зарплаты выше, чем у конкурентов', '5', '0.5', '2,5']\n",
            "19 ['Повышение цен на материалы и фурнитуру', 'Закупка бОльшими партиями; поиск постоянного продавца (со скидками для постоянных покупателей)', '5', '0.6', '3']\n",
            "20 ['Снижение платежеспособности клиентов', 'Введение системы скидок для постоянных клиентов', '9', '0.7', '6,3']\n",
            "21 ['Проблемы с сайтом', 'Добавить клиенту возможность связаться другим способом (через соц.сети, телефон); открытие физического магазина', '3', '0.05', '0,15']\n",
            "\n",
            "Strength values:  [[9.0], [9.5], [9.0], [8.0], [6.4]]\n",
            "Summury:  [['41,9']]\n",
            "\n",
            "Weaknesses values:  [[4.199999999999999], [3.5999999999999996], [5.6], [0.30000000000000004]]\n",
            "Summury:  [['-13,7']]\n",
            "\n",
            "Opportunities values:  [[6.4], [4.199999999999999], [0.75], [6.4]]\n",
            "Summury:  [['17,75']]\n",
            "\n",
            "Threats values:  [[6.8], [2.5], [3.0], [6.3], [0.15000000000000002]]\n",
            "Summury:  [['-18,75']]\n",
            "\n",
            "In total:  [['27,2']]\n"
          ],
          "name": "stdout"
        }
      ]
    }
  ]
}