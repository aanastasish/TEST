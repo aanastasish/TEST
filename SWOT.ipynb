{
  "nbformat": 4,
  "nbformat_minor": 0,
  "metadata": {
    "colab": {
      "name": "SWOT.ipynb",
      "provenance": [],
      "collapsed_sections": [],
      "mount_file_id": "1go7kjF6NXJ9QVgJB7FX6XFfzLh175Q5U",
      "authorship_tag": "ABX9TyOkcRdiAuly63SBEQYZM1d1",
      "include_colab_link": true
    },
    "kernelspec": {
      "name": "python3",
      "display_name": "Python 3"
    }
  },
  "cells": [
    {
      "cell_type": "markdown",
      "metadata": {
        "id": "view-in-github",
        "colab_type": "text"
      },
      "source": [
        "<a href=\"https://colab.research.google.com/github/aanastasish/TEST/blob/master/SWOT.ipynb\" target=\"_parent\"><img src=\"https://colab.research.google.com/assets/colab-badge.svg\" alt=\"Open In Colab\"/></a>"
      ]
    },
    {
      "cell_type": "markdown",
      "metadata": {
        "id": "V_k0DudRdgl2"
      },
      "source": [
        "Информация об исполнителе"
      ]
    },
    {
      "cell_type": "code",
      "metadata": {
        "colab": {
          "base_uri": "https://localhost:8080/",
          "height": 0
        },
        "id": "aUC75Prade-0",
        "outputId": "80179844-f867-4690-8ee9-b3a441bf60b3"
      },
      "source": [
        "print('Выполнила Шамрикова Анастасия Александровна')\r\n",
        "print('Группа 20 БИ-2')\r\n",
        "print('Временная зона GMT +3')\r\n",
        "!ln -fs /usr/share/zoneinfo/Europe/Moscow /etc/localtime\r\n",
        "!date"
      ],
      "execution_count": 125,
      "outputs": [
        {
          "output_type": "stream",
          "text": [
            "Выполнила Шамрикова Анастасия Александровна\n",
            "Группа 20 БИ-2\n",
            "Временная зона GMT +3\n",
            "Mon Mar 15 21:53:40 MSK 2021\n"
          ],
          "name": "stdout"
        }
      ]
    },
    {
      "cell_type": "markdown",
      "metadata": {
        "id": "SECG12evdoyM"
      },
      "source": [
        "Связь с Google Drive"
      ]
    },
    {
      "cell_type": "code",
      "metadata": {
        "colab": {
          "base_uri": "https://localhost:8080/",
          "height": 0
        },
        "id": "IhbmBDVw5Rr_",
        "outputId": "6d8d034b-a546-4f71-8d48-db85a819f167"
      },
      "source": [
        "from google.colab import auth\r\n",
        "auth.authenticate_user()\r\n",
        "!pip install --upgrade gspread\r\n",
        "import gspread\r\n",
        "from google.colab import drive\r\n",
        "drive.mount('/content/drive')\r\n",
        "import os\r\n",
        "print(os.getcwd())\r\n",
        "print(os.listdir('./'))\r\n",
        "print(os.listdir('/content/drive'))\r\n",
        "print(os.listdir('/content/drive/MyDrive/SWOT-analysis'))\r\n",
        "%ll -lF /content/drive/MyDrive/SWOT-analysis\r\n",
        "from oauth2client.client import GoogleCredentials\r\n",
        "gs = gspread.authorize(GoogleCredentials.get_application_default())\r\n",
        "table = gs.open_by_key('1W1sd23WrgBg_qcET1-buzb3b3a_JZpBDguQ43tDQsMw')\r\n",
        "print(table.worksheets())"
      ],
      "execution_count": 126,
      "outputs": [
        {
          "output_type": "stream",
          "text": [
            "Requirement already up-to-date: gspread in /usr/local/lib/python3.7/dist-packages (3.7.0)\n",
            "Requirement already satisfied, skipping upgrade: google-auth-oauthlib>=0.4.1 in /usr/local/lib/python3.7/dist-packages (from gspread) (0.4.3)\n",
            "Requirement already satisfied, skipping upgrade: google-auth>=1.12.0 in /usr/local/lib/python3.7/dist-packages (from gspread) (1.27.1)\n",
            "Requirement already satisfied, skipping upgrade: requests-oauthlib>=0.7.0 in /usr/local/lib/python3.7/dist-packages (from google-auth-oauthlib>=0.4.1->gspread) (1.3.0)\n",
            "Requirement already satisfied, skipping upgrade: six>=1.9.0 in /usr/local/lib/python3.7/dist-packages (from google-auth>=1.12.0->gspread) (1.15.0)\n",
            "Requirement already satisfied, skipping upgrade: setuptools>=40.3.0 in /usr/local/lib/python3.7/dist-packages (from google-auth>=1.12.0->gspread) (54.0.0)\n",
            "Requirement already satisfied, skipping upgrade: cachetools<5.0,>=2.0.0 in /usr/local/lib/python3.7/dist-packages (from google-auth>=1.12.0->gspread) (4.2.1)\n",
            "Requirement already satisfied, skipping upgrade: rsa<5,>=3.1.4; python_version >= \"3.6\" in /usr/local/lib/python3.7/dist-packages (from google-auth>=1.12.0->gspread) (4.7.2)\n",
            "Requirement already satisfied, skipping upgrade: pyasn1-modules>=0.2.1 in /usr/local/lib/python3.7/dist-packages (from google-auth>=1.12.0->gspread) (0.2.8)\n",
            "Requirement already satisfied, skipping upgrade: requests>=2.0.0 in /usr/local/lib/python3.7/dist-packages (from requests-oauthlib>=0.7.0->google-auth-oauthlib>=0.4.1->gspread) (2.23.0)\n",
            "Requirement already satisfied, skipping upgrade: oauthlib>=3.0.0 in /usr/local/lib/python3.7/dist-packages (from requests-oauthlib>=0.7.0->google-auth-oauthlib>=0.4.1->gspread) (3.1.0)\n",
            "Requirement already satisfied, skipping upgrade: pyasn1>=0.1.3 in /usr/local/lib/python3.7/dist-packages (from rsa<5,>=3.1.4; python_version >= \"3.6\"->google-auth>=1.12.0->gspread) (0.4.8)\n",
            "Requirement already satisfied, skipping upgrade: certifi>=2017.4.17 in /usr/local/lib/python3.7/dist-packages (from requests>=2.0.0->requests-oauthlib>=0.7.0->google-auth-oauthlib>=0.4.1->gspread) (2020.12.5)\n",
            "Requirement already satisfied, skipping upgrade: idna<3,>=2.5 in /usr/local/lib/python3.7/dist-packages (from requests>=2.0.0->requests-oauthlib>=0.7.0->google-auth-oauthlib>=0.4.1->gspread) (2.10)\n",
            "Requirement already satisfied, skipping upgrade: urllib3!=1.25.0,!=1.25.1,<1.26,>=1.21.1 in /usr/local/lib/python3.7/dist-packages (from requests>=2.0.0->requests-oauthlib>=0.7.0->google-auth-oauthlib>=0.4.1->gspread) (1.24.3)\n",
            "Requirement already satisfied, skipping upgrade: chardet<4,>=3.0.2 in /usr/local/lib/python3.7/dist-packages (from requests>=2.0.0->requests-oauthlib>=0.7.0->google-auth-oauthlib>=0.4.1->gspread) (3.0.4)\n",
            "Drive already mounted at /content/drive; to attempt to forcibly remount, call drive.mount(\"/content/drive\", force_remount=True).\n",
            "/content\n",
            "['.config', 'drive', 'adc.json', 'sample_data']\n",
            "['MyDrive', '.file-revisions-by-id', '.shortcut-targets-by-id', '.Trash']\n",
            "['Prices.gsheet', 'SWOT.gsheet', 'SWOT.ipynb', '.ipynb_checkpoints', 'swot_dictionary11.json']\n",
            "total 60\n",
            "-rw------- 1 root   151 Mar  2 23:33 Prices.gsheet\n",
            "-rw------- 1 root    81 Mar 15 21:53 swot_dictionary11.json\n",
            "-rw------- 1 root   151 Mar 15 21:52 SWOT.gsheet\n",
            "-rw------- 1 root 59523 Mar 15 21:50 SWOT.ipynb\n",
            "[<Worksheet 'SWOT' id:1291277922>, <Worksheet 'Strengths' id:2132343520>, <Worksheet 'Weaknesses' id:691495457>, <Worksheet 'Opportunities' id:1839731318>, <Worksheet 'Threats' id:65940110>]\n"
          ],
          "name": "stdout"
        }
      ]
    },
    {
      "cell_type": "markdown",
      "metadata": {
        "id": "O1-Qnk58d_X3"
      },
      "source": [
        "Отдельные элементы SWOT-анализа"
      ]
    },
    {
      "cell_type": "code",
      "metadata": {
        "colab": {
          "base_uri": "https://localhost:8080/",
          "height": 515
        },
        "id": "o05P_4S5eUC5",
        "outputId": "6557496e-a004-4dcc-fe64-2a5d0ccdff80"
      },
      "source": [
        "# Считываем данные таблицы и достраиваем ее\r\n",
        "print('Strengths')\r\n",
        "worksheet = table.worksheet(\"Strengths\")\r\n",
        "rows = worksheet.get_all_values()\r\n",
        "strength = list()\r\n",
        "actions = list()\r\n",
        "importance = list()\r\n",
        "probability = list()\r\n",
        "power = list()\r\n",
        "power_sh = list()\r\n",
        "power_raw = list()\r\n",
        "i = 0\r\n",
        "for row in rows:\r\n",
        "  if (0 < i < 6):\r\n",
        "    print(i, row)\r\n",
        "    strength.append(row[0])\r\n",
        "    importance.append(int(row[2]))\r\n",
        "    probability.append(float(row[3]))\r\n",
        "    power.append(int(row[2]) * float(row[3]))\r\n",
        "    power_raw = list()\r\n",
        "    power_raw.append(int(row[2]) * float(row[3]))\r\n",
        "    power_sh.append(power_raw)\r\n",
        "  i += 1\r\n",
        "print('Values: ', power_sh)\r\n",
        "worksheet.update('E2:E100', power_sh)\r\n",
        "result = sum(power)\r\n",
        "print('Result: ', result)\r\n",
        " \r\n",
        " \r\n",
        "import matplotlib\r\n",
        "import matplotlib.pyplot as plt\r\n",
        "import numpy as np\r\n",
        "i = 0\r\n",
        "line = list()\r\n",
        "cols = worksheet.col_values(1)\r\n",
        "for col in cols:\r\n",
        "  if (i > 0):\r\n",
        "    line.append(i)\r\n",
        "  i+=1\r\n",
        "powers = power\r\n",
        "x = np.arange(len(line))\r\n",
        "width = 0.5\r\n",
        "fig, ax = plt.subplots()\r\n",
        "rects1 = ax.bar(x - width/2, powers, width)\r\n",
        "a = worksheet.col_values(1)\r\n",
        "ax.set_ylabel('Intensity')\r\n",
        "ax.set_title('Strengths')\r\n",
        "ax.set_xlabel('Parameters')\r\n",
        "ax.set_xticks(x)\r\n",
        "ax.set_xticklabels(line)\r\n",
        "fig.tight_layout()\r\n",
        "plt.show()\r\n",
        "\r\n",
        "k = 0\r\n",
        "for col in cols:\r\n",
        "  if (k > 0):\r\n",
        "    print(k, ' - ', col)\r\n",
        "  k += 1"
      ],
      "execution_count": 127,
      "outputs": [
        {
          "output_type": "stream",
          "text": [
            "Strengths\n",
            "1 ['Персональный подход к клиенту', 'Создание индивидуального товара для клиента (по его меркам, выбранному фасону и материалу)', '9', '1', '9']\n",
            "2 ['Высокое качество изделий', 'Ручная работа и качественные материалы', '10', '0.95', '9.5']\n",
            "3 ['Оправданная цена', 'Соотношение цены и качества', '10', '0.9', '9']\n",
            "4 ['Большой ассортимент', 'Выбор материалов и фасонов на любой вкус', '8', '1', '8']\n",
            "5 ['Дизайн ', 'Соответствие модным тенденциям', '8', '0.8', '6.4']\n",
            "Values:  [[9.0], [9.5], [9.0], [8.0], [6.4]]\n",
            "Result:  41.9\n"
          ],
          "name": "stdout"
        },
        {
          "output_type": "display_data",
          "data": {
            "image/png": "[encoded data removed]",
            "text/plain": [
              "<Figure size 432x288 with 1 Axes>"
            ]
          },
          "metadata": {
            "tags": [],
            "needs_background": "light"
          }
        },
        {
          "output_type": "stream",
          "text": [
            "1  -  Персональный подход к клиенту\n",
            "2  -  Высокое качество изделий\n",
            "3  -  Оправданная цена\n",
            "4  -  Большой ассортимент\n",
            "5  -  Дизайн \n"
          ],
          "name": "stdout"
        }
      ]
    },
    {
      "cell_type": "code",
      "metadata": {
        "colab": {
          "base_uri": "https://localhost:8080/",
          "height": 502
        },
        "id": "kgmkoEepeXL3",
        "outputId": "af76ec51-75d9-411f-ff49-f006f6c2cd0a"
      },
      "source": [
        "# Считываем данные таблицы и достраиваем ее\r\n",
        "print('Weaknesses')\r\n",
        "worksheet = table.worksheet(\"Weaknesses\")\r\n",
        "rows = worksheet.get_all_values()\r\n",
        "weaknesses = list()\r\n",
        "actions = list()\r\n",
        "importance = list()\r\n",
        "probability = list()\r\n",
        "power = list()\r\n",
        "power_sh = list()\r\n",
        "power_raw = list()\r\n",
        "i = 0\r\n",
        "for row in rows:\r\n",
        "  if (0 < i < 5):\r\n",
        "    print(i, row)\r\n",
        "    weaknesses.append(row[0])\r\n",
        "    importance.append(int(row[2]))\r\n",
        "    probability.append(float(row[3]))\r\n",
        "    power.append(int(row[2]) * float(row[3]))\r\n",
        "    power_raw = list()\r\n",
        "    power_raw.append(int(row[2]) * float(row[3]))\r\n",
        "    power_sh.append(power_raw)\r\n",
        "  i += 1\r\n",
        "print('Values: ', power_sh)\r\n",
        "worksheet.update('E2:E100', power_sh)\r\n",
        "result = sum(power)\r\n",
        "print('Result: ', result)\r\n",
        " \r\n",
        " \r\n",
        "import matplotlib\r\n",
        "import matplotlib.pyplot as plt\r\n",
        "import numpy as np\r\n",
        "i = 0\r\n",
        "line = list()\r\n",
        "cols = worksheet.col_values(1)\r\n",
        "for col in cols:\r\n",
        "  if (i > 0):\r\n",
        "    line.append(i)\r\n",
        "  i+=1\r\n",
        "powers = power\r\n",
        "x = np.arange(len(line))\r\n",
        "width = 0.5\r\n",
        "fig, ax = plt.subplots()\r\n",
        "rects1 = ax.bar(x - width/2, powers, width)\r\n",
        "a = worksheet.col_values(1)\r\n",
        "ax.set_ylabel('Intensity')\r\n",
        "ax.set_title('Weaknesses')\r\n",
        "ax.set_xlabel('Parameters')\r\n",
        "ax.set_xticks(x)\r\n",
        "ax.set_xticklabels(line)\r\n",
        "fig.tight_layout()\r\n",
        "plt.show()\r\n",
        "\r\n",
        "k = 0\r\n",
        "for col in cols:\r\n",
        "  if (k > 0):\r\n",
        "    print(k, ' - ', col)\r\n",
        "  k += 1\r\n"
      ],
      "execution_count": 128,
      "outputs": [
        {
          "output_type": "stream",
          "text": [
            "Weaknesses\n",
            "1 ['Ограничения по количеству производимого товара', 'Расширение производства и наем новых работников с увеличением количества заказов', '6', '0.7', '4.2']\n",
            "2 ['Долгое время на привлечение клиентов в начале', 'Закупка рекламы;  введение системы лояльности для постоянных клиентов (скидки и подарки)', '6', '0.6', '3.6']\n",
            "3 ['Относительно долгий период до начала окупаемости бизнеса', 'Возможность дополнительного заработка в виде пошива изделий для оптовой продажи физическим магазинам', '8', '0.7', '5.6']\n",
            "4 ['Наличие только интернет-магазина ', 'Открытие физического магазина-ателье (где можно вживую подобрать фасон, материал, снять мерки и тд)', '3', '0.1', '0.3']\n",
            "Values:  [[4.199999999999999], [3.5999999999999996], [5.6], [0.30000000000000004]]\n",
            "Result:  13.7\n"
          ],
          "name": "stdout"
        },
        {
          "output_type": "display_data",
          "data": {
            "image/png": "[encoded data removed]",
            "text/plain": [
              "<Figure size 432x288 with 1 Axes>"
            ]
          },
          "metadata": {
            "tags": [],
            "needs_background": "light"
          }
        },
        {
          "output_type": "stream",
          "text": [
            "1  -  Ограничения по количеству производимого товара\n",
            "2  -  Долгое время на привлечение клиентов в начале\n",
            "3  -  Относительно долгий период до начала окупаемости бизнеса\n",
            "4  -  Наличие только интернет-магазина \n"
          ],
          "name": "stdout"
        }
      ]
    },
    {
      "cell_type": "code",
      "metadata": {
        "colab": {
          "base_uri": "https://localhost:8080/",
          "height": 502
        },
        "id": "V0Pxy-V6eXDY",
        "outputId": "ecfe77ac-4ea1-4273-8197-ed74a67a786f"
      },
      "source": [
        "# Считываем данные таблицы и достраиваем ее\r\n",
        "print('Opportunities')\r\n",
        "worksheet = table.worksheet(\"Opportunities\")\r\n",
        "rows = worksheet.get_all_values()\r\n",
        "opportunities = list()\r\n",
        "actions = list()\r\n",
        "importance = list()\r\n",
        "probability = list()\r\n",
        "power = list()\r\n",
        "power_sh = list()\r\n",
        "power_raw = list()\r\n",
        "i = 0\r\n",
        "for row in rows:\r\n",
        "  if (0 < i < 5):\r\n",
        "    print(i, row)\r\n",
        "    opportunities.append(row[0])\r\n",
        "    importance.append(int(row[2]))\r\n",
        "    probability.append(float(row[3]))\r\n",
        "    power.append(int(row[2]) * float(row[3]))\r\n",
        "    power_raw = list()\r\n",
        "    power_raw.append(int(row[2]) * float(row[3]))\r\n",
        "    power_sh.append(power_raw)\r\n",
        "  i += 1\r\n",
        "print('Values: ', power_sh)\r\n",
        "worksheet.update('E2:E100', power_sh)\r\n",
        "result = sum(power)\r\n",
        "print('Result: ', result)\r\n",
        " \r\n",
        " \r\n",
        "import matplotlib\r\n",
        "import matplotlib.pyplot as plt\r\n",
        "import numpy as np\r\n",
        "i = 0\r\n",
        "line = list()\r\n",
        "cols = worksheet.col_values(1)\r\n",
        "for col in cols:\r\n",
        "  if (i > 0):\r\n",
        "    line.append(i)\r\n",
        "  i+=1\r\n",
        "powers = power\r\n",
        "x = np.arange(len(line))\r\n",
        "width = 0.5\r\n",
        "fig, ax = plt.subplots()\r\n",
        "rects1 = ax.bar(x - width/2, powers, width)\r\n",
        "a = worksheet.col_values(1)\r\n",
        "ax.set_ylabel('Intensity')\r\n",
        "ax.set_title('Opportunities')\r\n",
        "ax.set_xlabel('Parameters')\r\n",
        "ax.set_xticks(x)\r\n",
        "ax.set_xticklabels(line)\r\n",
        "fig.tight_layout()\r\n",
        "plt.show()\r\n",
        "\r\n",
        "k = 0\r\n",
        "for col in cols:\r\n",
        "  if (k > 0):\r\n",
        "    print(k, ' - ', col)\r\n",
        "  k += 1"
      ],
      "execution_count": 129,
      "outputs": [
        {
          "output_type": "stream",
          "text": [
            "Opportunities\n",
            "1 ['Растущее недовольство товаром в сетевых магазинах (из-за несоответствия цены и качества)', 'Предложение товара с оправданной ценой и хорошим качеством', '8', '0.8', '6.4']\n",
            "2 ['Модные тенденции, превозносящие ручную работу, качественный материал и удобство в носке', 'Следование тенденциям и поддержка идей этичной моды (что помогает заручиться поддержкой и лояльностью клиентов)', '6', '0.7', '4.2']\n",
            "3 ['Оптовые заказы от физических магазинов', 'Возможность пошива по стандартным лекалам для оптовой продажи в другие магазины (увеличение прибыли)', '5', '0.15', '0.75']\n",
            "4 ['Большой выбор необходимых для запуска бизнеса средств', 'Закупки материалов и др. по адекватным ценам; возможность выбора; разнообразие, которое будет привлекать клиентов', '8', '0.8', '6.4']\n",
            "Values:  [[6.4], [4.199999999999999], [0.75], [6.4]]\n",
            "Result:  17.75\n"
          ],
          "name": "stdout"
        },
        {
          "output_type": "display_data",
          "data": {
            "image/png": "[encoded data removed]",
            "text/plain": [
              "<Figure size 432x288 with 1 Axes>"
            ]
          },
          "metadata": {
            "tags": [],
            "needs_background": "light"
          }
        },
        {
          "output_type": "stream",
          "text": [
            "1  -  Растущее недовольство товаром в сетевых магазинах (из-за несоответствия цены и качества)\n",
            "2  -  Модные тенденции, превозносящие ручную работу, качественный материал и удобство в носке\n",
            "3  -  Оптовые заказы от физических магазинов\n",
            "4  -  Большой выбор необходимых для запуска бизнеса средств\n"
          ],
          "name": "stdout"
        }
      ]
    },
    {
      "cell_type": "code",
      "metadata": {
        "colab": {
          "base_uri": "https://localhost:8080/",
          "height": 515
        },
        "id": "42gT_CHCeW3H",
        "outputId": "7e65d2e9-0b94-4984-ad94-86470e0bf66a"
      },
      "source": [
        "# Считываем данные таблицы и достраиваем ее\r\n",
        "print('Threats')\r\n",
        "worksheet = table.worksheet(\"Threats\")\r\n",
        "rows = worksheet.get_all_values()\r\n",
        "threats = list()\r\n",
        "actions = list()\r\n",
        "importance = list()\r\n",
        "probability = list()\r\n",
        "power = list()\r\n",
        "power_sh = list()\r\n",
        "power_raw = list()\r\n",
        "i = 0\r\n",
        "for row in rows:\r\n",
        "  if (0 < i < 6):\r\n",
        "    print(i, row)\r\n",
        "    threats.append(row[0])\r\n",
        "    importance.append(int(row[2]))\r\n",
        "    probability.append(float(row[3]))\r\n",
        "    power.append(int(row[2]) * float(row[3]))\r\n",
        "    power_raw = list()\r\n",
        "    power_raw.append(int(row[2]) * float(row[3]))\r\n",
        "    power_sh.append(power_raw)\r\n",
        "  i += 1\r\n",
        "print('Values: ', power_sh)\r\n",
        "worksheet.update('E2:E100', power_sh)\r\n",
        "result = sum(power)\r\n",
        "print('Result: ', result)\r\n",
        " \r\n",
        " \r\n",
        "import matplotlib\r\n",
        "import matplotlib.pyplot as plt\r\n",
        "import numpy as np\r\n",
        "i = 0\r\n",
        "line = list()\r\n",
        "cols = worksheet.col_values(1)\r\n",
        "for col in cols:\r\n",
        "  if (i > 0):\r\n",
        "    line.append(i)\r\n",
        "  i+=1\r\n",
        "powers = power\r\n",
        "x = np.arange(len(line))\r\n",
        "width = 0.5\r\n",
        "fig, ax = plt.subplots()\r\n",
        "rects1 = ax.bar(x - width/2, powers, width)\r\n",
        "a = worksheet.col_values(1)\r\n",
        "ax.set_ylabel('Intensity')\r\n",
        "ax.set_title('Threats')\r\n",
        "ax.set_xlabel('Parameters')\r\n",
        "ax.set_xticks(x)\r\n",
        "ax.set_xticklabels(line)\r\n",
        "fig.tight_layout()\r\n",
        "plt.show()\r\n",
        "\r\n",
        "k = 0\r\n",
        "for col in cols:\r\n",
        "  if (k > 0):\r\n",
        "    print(k, ' - ', col)\r\n",
        "  k += 1"
      ],
      "execution_count": 130,
      "outputs": [
        {
          "output_type": "stream",
          "text": [
            "Threats\n",
            "1 ['Большая конкуренция на рынке', 'Приобретение лояльной аудитории; расширение ассортимента товаров (например, купальники и домашняя одежда)', '8', '0.85', '6.8']\n",
            "2 ['Недостаток кадров, специализирующихся на данной области', 'Обучение \"под себя\" потенциальных работников; предложение зарплаты выше, чем у конкурентов', '5', '0.5', '2.5']\n",
            "3 ['Повышение цен на материалы и фурнитуру', 'Закупка бОльшими партиями; поиск постоянного продавца (со скидками для постоянных покупателей)', '5', '0.6', '3']\n",
            "4 ['Снижение платежеспособности клиентов', 'Введение системы скидок для постоянных клиентов', '9', '0.7', '6.3']\n",
            "5 ['Проблемы с сайтом', 'Добавить клиенту возможность связаться другим способом (через соц.сети, телефон); открытие физического магазина', '3', '0.05', '0.15']\n",
            "Values:  [[6.8], [2.5], [3.0], [6.3], [0.15000000000000002]]\n",
            "Result:  18.75\n"
          ],
          "name": "stdout"
        },
        {
          "output_type": "display_data",
          "data": {
            "image/png": "[encoded data removed]",
            "text/plain": [
              "<Figure size 432x288 with 1 Axes>"
            ]
          },
          "metadata": {
            "tags": [],
            "needs_background": "light"
          }
        },
        {
          "output_type": "stream",
          "text": [
            "1  -  Большая конкуренция на рынке\n",
            "2  -  Недостаток кадров, специализирующихся на данной области\n",
            "3  -  Повышение цен на материалы и фурнитуру\n",
            "4  -  Снижение платежеспособности клиентов\n",
            "5  -  Проблемы с сайтом\n"
          ],
          "name": "stdout"
        }
      ]
    },
    {
      "cell_type": "markdown",
      "metadata": {
        "id": "JNoBmcYgeCp2"
      },
      "source": [
        "Итоговая таблица"
      ]
    },
    {
      "cell_type": "code",
      "metadata": {
        "colab": {
          "base_uri": "https://localhost:8080/",
          "height": 530
        },
        "id": "9DvMoYdstOcx",
        "outputId": "2de1c92f-c39d-46eb-ef01-ff630e59c9f7"
      },
      "source": [
        "print('SWOT')\r\n",
        "import os\r\n",
        "import json\r\n",
        "\r\n",
        "def matplot(element):\r\n",
        "  import matplotlib.pyplot as plt\r\n",
        "  x = list()\r\n",
        "  x_float = list()\r\n",
        "  title = list()\r\n",
        "  y_float = list()\r\n",
        "\r\n",
        "  worksheet = table.worksheet('Strengths')\r\n",
        "  stren =  worksheet.acell('E8').value\r\n",
        "  worksheet = table.worksheet('Weaknesses')\r\n",
        "  weak =  worksheet.acell('E8').value\r\n",
        "  worksheet = table.worksheet('Opportunities')\r\n",
        "  op =  worksheet.acell('E8').value\r\n",
        "  worksheet = table.worksheet('Threats')\r\n",
        "  thr =  worksheet.acell('E8').value\r\n",
        "  \r\n",
        "  worksheet = table.worksheet('SWOT')\r\n",
        "  worksheet.update('B2', stren)\r\n",
        "  stren = worksheet.acell('B2').value\r\n",
        "  worksheet.update('B3', weak)\r\n",
        "  weak = worksheet.acell('B3').value\r\n",
        "  worksheet.update('B4', op)\r\n",
        "  op = worksheet.acell('B4').value\r\n",
        "  worksheet.update('B5', thr)\r\n",
        "  thr = worksheet.acell('B5').value\r\n",
        "\r\n",
        "  read_file = open('/content/drive/MyDrive/SWOT-analysis/swot_dictionary11.json', 'r+')\r\n",
        "  read_file.write('{Strengths: ')\r\n",
        "  read_file.write(stren)\r\n",
        "  read_file.write(', Weaknesses: ')\r\n",
        "  read_file.write(weak)\r\n",
        "  read_file.write(', Opportunities: ')\r\n",
        "  read_file.write(op)\r\n",
        "  read_file.write(', Threats: ')\r\n",
        "  read_file.write(thr)\r\n",
        "  read_file.write('}')\r\n",
        "  \r\n",
        "  result = 0\r\n",
        "  i = 0\r\n",
        "  for line in read_file.readlines():\r\n",
        "    i += 1\r\n",
        "    data = json.loads(line)\r\n",
        "    title = [\"Strengths\", \"Weaknesses\", \"Opportunities\", \"Threats\", \"Result\"]\r\n",
        "    x = title\r\n",
        "    x_float = [1, 2, 3, 4, 5]\r\n",
        "    result = float(data['Strengths']) - 1*float(data['Weaknesses']) + float(data['Opportunities']) - 1*float(data['Threats'])\r\n",
        "    y = [float(data['Strengths']), float(data['Weaknesses']), float(data['Opportunities']), float(data['Threats'])]\r\n",
        "    y_float = [float(data['Strengths']), -1*float(data['Weaknesses']), float(data['Opportunities']), -1*float(data['Threats']),  result]\r\n",
        "  print(x_float,title,y_float)\r\n",
        "\r\n",
        "  worksheet = table.worksheet('SWOT')\r\n",
        "  worksheet.update('B6', result)\r\n",
        "  read_file.close()\r\n",
        "  x_pos = list()\r\n",
        "  for i in range (x_float.__len__()):\r\n",
        "    x_pos.append(i)\r\n",
        "  fig=plt.figure(figsize=(8,6), dpi=72)\r\n",
        "  plt.bar(x_pos, y_float, width=0.75, align='edge', alpha=0.4)\r\n",
        "  plt.xticks(x_pos,  x_float, fontsize=14)\r\n",
        "  plt.xlabel('Обозначения', fontsize=14)\r\n",
        "  plt.ylabel('Мощность воздействия', fontsize=14)\r\n",
        "  plt.title('SWOT', fontsize=14)\r\n",
        "  plt.grid(True, color='r', linestyle='-', linewidth=2)\r\n",
        "  plt.show()\r\n",
        "\r\n",
        "  for i in range(title.__len__()):\r\n",
        "    print(i+1, \" - \", title[i], \"; \")\r\n",
        "    i += 1\r\n",
        "\r\n",
        "if __name__ == \"__main__\":\r\n",
        "    element = 'swot_dictionary'\r\n",
        "    matplot(element)"
      ],
      "execution_count": 131,
      "outputs": [
        {
          "output_type": "stream",
          "text": [
            "SWOT\n",
            "[1, 2, 3, 4, 5] ['Strengths', 'Weaknesses', 'Opportunities', 'Threats', 'Result'] [41.9, -13.7, 17.75, -18.75, 27.200000000000003]\n"
          ],
          "name": "stdout"
        },
        {
          "output_type": "display_data",
          "data": {
            "image/png": "[encoded data removed]",
            "text/plain": [
              "<Figure size 576x432 with 1 Axes>"
            ]
          },
          "metadata": {
            "tags": [],
            "needs_background": "light"
          }
        },
        {
          "output_type": "stream",
          "text": [
            "1  -  Strengths ; \n",
            "2  -  Weaknesses ; \n",
            "3  -  Opportunities ; \n",
            "4  -  Threats ; \n",
            "5  -  Result ; \n"
          ],
          "name": "stdout"
        }
      ]
    }
  ]
}